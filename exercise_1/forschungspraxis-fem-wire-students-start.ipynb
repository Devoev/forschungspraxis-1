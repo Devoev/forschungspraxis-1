{
 "cells": [
  {
   "cell_type": "markdown",
   "id": "f79c6e02",
   "metadata": {},
   "source": [
    "## Problem Description\n",
    "\n",
    "A current of I = 16 A is homogeneously distributed along the cross section of a cylindrical\n",
    "copper wire with radius r1 = 2 mm and length ℓz = 300 mm, aligned with the z-direction. The\n",
    "wire is enclosed within a cylindrical, non-conducting insulating shell with inner radius r1, outer\n",
    "radius r2 = 3.5 mm and with permeability µ = 5µ0, where µ0 is the permeability of vacuum.\n",
    "The outer surface of the insulation shell is considered as a perfect electric conductor."
   ]
  },
  {
   "cell_type": "code",
   "execution_count": 20,
   "id": "3862b449",
   "metadata": {},
   "outputs": [],
   "source": [
    "# -*- coding: utf-8 -*-\n",
    "\"\"\"\n",
    "2021/2022\n",
    "@author: spaeck-leigsnering, bundschuh, ruppert, d'angelo, de gersem\n",
    "\"\"\"\n",
    "import gmsh\n",
    "import numpy as np\n",
    "import sys\n",
    "from scipy import sparse\n",
    "from scipy.sparse.linalg import spsolve\n",
    "from scipy.integrate import quad\n",
    "import matplotlib.pyplot as plt\n",
    "from matplotlib.tri import Triangulation\n",
    "from dataclasses import dataclass\n",
    "\n",
    "%matplotlib inline"
   ]
  },
  {
   "cell_type": "markdown",
   "id": "8c4a162e",
   "metadata": {},
   "source": [
    "## Analytic model"
   ]
  },
  {
   "cell_type": "code",
   "execution_count": 21,
   "id": "8132215a",
   "metadata": {},
   "outputs": [],
   "source": [
    "# %% Settings\n",
    "r_1 = 2e-3                # [m]: inner radius (wire)\n",
    "r_2 = 3.5e-3              # [m]: outer radius (shell)\n",
    "depth = 300e-3            # [m]: Depth of wire (lz)\n",
    "model_name = \"wire\"       # str : model name\n",
    "\n",
    "I = 16                    # [A]   : applied current\n",
    "J_0 = I/(np.pi*r_1**2)    # [A/m] : current density in the wire\n",
    "mu_0 = 4*np.pi*1e-7       # [H/m] : permeability of vacuum (and inside of wire)\n",
    "mu_shell = 5*mu_0         # [H/m] : permeability of shell"
   ]
  },
  {
   "cell_type": "code",
   "execution_count": 22,
   "id": "aadfd7a6",
   "metadata": {},
   "outputs": [],
   "source": [
    "def H_phi(r):\n",
    "    \"\"\"\n",
    "    Analytic solution of Magnetic Field\n",
    "    \n",
    "    Parameters\n",
    "    ----------\n",
    "    r : np.ndarray \n",
    "        radius in [m]\n",
    "\n",
    "    Returns\n",
    "    -------\n",
    "    h_phi : np.ndarray\n",
    "        Magnetic field strength in [A/m]:\n",
    "    \"\"\"\n",
    "    def H_phi_i(r):\n",
    "        return J_0/2*r\n",
    "    def H_phi_a(r):\n",
    "        return J_0/2*r_1**2/r\n",
    "    condition = r<r_1\n",
    "    return condition*H_phi_i(r)+(~condition)*H_phi_a(r)"
   ]
  },
  {
   "cell_type": "code",
   "execution_count": 23,
   "id": "6cc60578",
   "metadata": {},
   "outputs": [],
   "source": [
    "def A_z(r):\n",
    "    \"\"\"\n",
    "    Analytic solution of magnetic vector potential\n",
    "    \n",
    "    Parameters\n",
    "    ----------\n",
    "    r : np.ndarray \n",
    "        radius in [m]\n",
    "\n",
    "    Returns\n",
    "    -------\n",
    "    a_z : np.ndarray \n",
    "        Magnetic vector potential in [Tm]\n",
    "    \"\"\"\n",
    "    def A_z_i(r):\n",
    "        return -I/(2*np.pi)*(mu_0/2*(r**2-r_1**2)/r_1**2+mu_shell*np.log(r_1/r_2))\n",
    "    def A_z_a(r):\n",
    "        return -mu_shell*I/(2*np.pi)*np.log(r/r_2)\n",
    "    condition = r<r_1\n",
    "    return condition*A_z_i(r)+(~condition)*A_z_a(r)"
   ]
  },
  {
   "cell_type": "code",
   "execution_count": 24,
   "id": "d28740dd",
   "metadata": {},
   "outputs": [],
   "source": [
    "# Plotting of H and A\n",
    "r = np.linspace(r_2/100,r_2,100)\n",
    "# plt.plot(r,A_z(r),'r:')\n",
    "# plt.plot(r,H_phi(r),'m-')"
   ]
  },
  {
   "cell_type": "code",
   "execution_count": 25,
   "id": "6ef13679",
   "metadata": {},
   "outputs": [
    {
     "data": {
      "text/plain": "(0.0001795939700537619, 1.4030778910450148e-06)"
     },
     "execution_count": 25,
     "metadata": {},
     "output_type": "execute_result"
    }
   ],
   "source": [
    "# Analytic Energy and Inductance\n",
    "W_magn_analytic = mu_0*J_0**2/4*2*np.pi*depth*r_1**4/2+mu_shell*J_0**2*r_1**4*2*np.pi*depth*np.log(r_2/r_1)\n",
    "L_analytic = 2*W_magn_analytic/I**2  # [H]   : inductance (analytical)\n",
    "W_magn_analytic , L_analytic"
   ]
  },
  {
   "cell_type": "markdown",
   "id": "943ccd97",
   "metadata": {},
   "source": [
    "## Construct finite-element model\n",
    "### 1) Import Mesh and physicals groups from Gmsh file"
   ]
  },
  {
   "cell_type": "code",
   "execution_count": 26,
   "id": "552df566",
   "metadata": {},
   "outputs": [],
   "source": [
    "# Handling of gmsh data in Python context. (Provide to students) \n",
    "# This implementation is well suited for small meshes. \n",
    "@dataclass \n",
    "class Mesh:\n",
    "    node_tag_data : np.ndarray\n",
    "    node_data : np.ndarray\n",
    "    elementTypes : np.ndarray\n",
    "    element_tags : np.ndarray\n",
    "    nodeTags_elements : np.ndarray\n",
    "    \n",
    "    #treat nodes\n",
    "    @property\n",
    "    def num_node(self):\n",
    "        # number of nodes\n",
    "        return int(len(self.node_data)/3) \n",
    "\n",
    "    @property\n",
    "    def node(self):\n",
    "        # nodes\n",
    "        node = np.reshape(self.node_data, (self.num_node, 3))\n",
    "        # coordinates of nodes. x-coordinate in first column \n",
    "        # and y-coordinate in second column\n",
    "        node = node[:, 0:2]\n",
    "        return node\n",
    "    \n",
    "    @property\n",
    "    def node_tag(self):\n",
    "        # ID of nodes\n",
    "        node_tag = self.node_tag_data - np.ones(len(self.node_tag_data))\n",
    "        node_tag = node_tag.astype('int')\n",
    "        np.put_along_axis(self.node,np.c_[node_tag,node_tag],self.node,axis=0)\n",
    "        return node_tag \n",
    "    \n",
    "    #treat elements\n",
    "    @property\n",
    "    def ind_elements(self):\n",
    "        # index of elements\n",
    "        return np.where(self.elementTypes == 2)[0]\n",
    "    \n",
    "    @property \n",
    "    def elements(self):\n",
    "        # elements\n",
    "        return np.array(self.nodeTags_elements[self.ind_elements[0]])\n",
    "    \n",
    "    @property \n",
    "    def num_elements(self):\n",
    "        # number of elements\n",
    "        return int(len(self.elements)/3) \n",
    "    \n",
    "    @property \n",
    "    def elem_to_node(self): \n",
    "        # Associate elements (triangles) and their respective nodes. \n",
    "        # Connection between elements and nodes. \n",
    "        # Each line contains the indices of the contained nodes\n",
    "        elem_to_node= np.reshape(self.elements, (self.num_elements, 3)) - np.ones(\n",
    "            (self.num_elements, 1))\n",
    "        elem_to_node = elem_to_node.astype('int')\n",
    "        return elem_to_node\n",
    "    \n",
    "    @property \n",
    "    def all_edges(self):\n",
    "        # Contains all edges\n",
    "        return np.r_[self.elem_to_node[:, [0, 1]], \n",
    "                     self.elem_to_node[:, [1, 2]], \n",
    "                     self.elem_to_node[:, [0, 2]]]\n",
    "    \n",
    "    @property\n",
    "    def edge_to_node(self):\n",
    "        # Associate edges and their respective nodes. \n",
    "        return np.unique(np.sort(self.all_edges), axis=0)  "
   ]
  },
  {
   "cell_type": "markdown",
   "id": "278e2382",
   "metadata": {},
   "source": [
    "#### Import Gmsh file and process mesh"
   ]
  },
  {
   "cell_type": "code",
   "execution_count": 27,
   "id": "a53edf22",
   "metadata": {},
   "outputs": [
    {
     "ename": "Exception",
     "evalue": "Unable to open file 'wire.geo'",
     "output_type": "error",
     "traceback": [
      "\u001B[1;31m---------------------------------------------------------------------------\u001B[0m",
      "\u001B[1;31mException\u001B[0m                                 Traceback (most recent call last)",
      "Cell \u001B[1;32mIn [27], line 8\u001B[0m\n\u001B[0;32m      6\u001B[0m \u001B[38;5;66;03m#gmsh.open(model_name+\".msh\")\u001B[39;00m\n\u001B[0;32m      7\u001B[0m gmsh\u001B[38;5;241m.\u001B[39mmodel\u001B[38;5;241m.\u001B[39madd(model_name)\n\u001B[1;32m----> 8\u001B[0m \u001B[43mgmsh\u001B[49m\u001B[38;5;241;43m.\u001B[39;49m\u001B[43mmerge\u001B[49m\u001B[43m(\u001B[49m\u001B[43mmodel_name\u001B[49m\u001B[38;5;241;43m+\u001B[39;49m\u001B[38;5;124;43m\"\u001B[39;49m\u001B[38;5;124;43m.geo\u001B[39;49m\u001B[38;5;124;43m\"\u001B[39;49m\u001B[43m)\u001B[49m\n\u001B[0;32m      9\u001B[0m gmsh\u001B[38;5;241m.\u001B[39moption\u001B[38;5;241m.\u001B[39msetNumber(\u001B[38;5;124m'\u001B[39m\u001B[38;5;124mMesh.MeshSizeFactor\u001B[39m\u001B[38;5;124m'\u001B[39m, \u001B[38;5;241m0.8\u001B[39m) \u001B[38;5;66;03m# control grid size here.\u001B[39;00m\n\u001B[0;32m     10\u001B[0m gmsh\u001B[38;5;241m.\u001B[39moption\u001B[38;5;241m.\u001B[39msetNumber(\u001B[38;5;124m'\u001B[39m\u001B[38;5;124mMesh.MshFileVersion\u001B[39m\u001B[38;5;124m'\u001B[39m, \u001B[38;5;241m2.2\u001B[39m) \u001B[38;5;66;03m# MATLAB compatible mesh file format\u001B[39;00m\n",
      "File \u001B[1;32m~\\anaconda3\\envs\\forschungspraxis_1\\lib\\site-packages\\gmsh.py:310\u001B[0m, in \u001B[0;36mmerge\u001B[1;34m(fileName)\u001B[0m\n\u001B[0;32m    306\u001B[0m lib\u001B[38;5;241m.\u001B[39mgmshMerge(\n\u001B[0;32m    307\u001B[0m     c_char_p(fileName\u001B[38;5;241m.\u001B[39mencode()),\n\u001B[0;32m    308\u001B[0m     byref(ierr))\n\u001B[0;32m    309\u001B[0m \u001B[38;5;28;01mif\u001B[39;00m ierr\u001B[38;5;241m.\u001B[39mvalue \u001B[38;5;241m!=\u001B[39m \u001B[38;5;241m0\u001B[39m:\n\u001B[1;32m--> 310\u001B[0m     \u001B[38;5;28;01mraise\u001B[39;00m \u001B[38;5;167;01mException\u001B[39;00m(logger\u001B[38;5;241m.\u001B[39mgetLastError())\n",
      "\u001B[1;31mException\u001B[0m: Unable to open file 'wire.geo'"
     ]
    }
   ],
   "source": [
    "# Import Gmsh File \n",
    "# Alternatively, the model can be contructed directly with the python interface directly.\n",
    "\n",
    "# Initialize gmsh\n",
    "gmsh.initialize(sys.argv[0])\n",
    "#gmsh.open(model_name+\".msh\")\n",
    "gmsh.model.add(model_name)\n",
    "gmsh.merge(model_name+\".geo\")\n",
    "gmsh.option.setNumber('Mesh.MeshSizeFactor', 0.8) # control grid size here.\n",
    "gmsh.option.setNumber('Mesh.MshFileVersion', 2.2) # MATLAB compatible mesh file format\n",
    "gmsh.model.occ.synchronize()\n",
    "#gmsh.fltk.run()                                  # uncomment, if you want to inspect the geometry\n",
    "gmsh.model.mesh.generate(dim=2) # 2D mesh\n",
    "#gmsh.fltk.run()                                  # uncomment, if you want to inspect the mesh\n",
    "#gmsh.write(model_name+\".msh\")                    # writes the mesh to a file\n",
    "node_tag, node, _ = gmsh.model.mesh.getNodes()\n",
    "elementTypes, element_tags, nodeTags_elements = gmsh.model.mesh.getElements()\n",
    "msh = Mesh(node_tag, node, elementTypes, element_tags , nodeTags_elements)"
   ]
  },
  {
   "cell_type": "markdown",
   "id": "a5c57fb1",
   "metadata": {},
   "source": [
    "#### Import Gmsh Physical groups and process"
   ]
  },
  {
   "cell_type": "code",
   "execution_count": null,
   "id": "219b37ea",
   "metadata": {},
   "outputs": [],
   "source": [
    "# Import Physical Groups (Provide to student)\n",
    "pg = gmsh.model.getPhysicalGroups()\n",
    "\n",
    "# Physical Groups \n",
    "physical_groups = dict()\n",
    "# In every entry in physical_groups we define the following structure (dimension, name, indices of all nodes)\n",
    "for group in pg:\n",
    "    physical_groups[group[1]] = (group[0], gmsh.model.getPhysicalName(group[0], group[1]),\n",
    "                                 gmsh.model.mesh.getNodesForPhysicalGroup(group[0], group[1])[0] - 1)\n",
    "    \n",
    "# Finalize gmsh\n",
    "# gmsh.finalize()\n",
    "physical_groups"
   ]
  },
  {
   "cell_type": "code",
   "execution_count": null,
   "id": "5f34e871",
   "metadata": {},
   "outputs": [],
   "source": [
    "def entity_in_physical_group(physical_group_data: dict, entity2node: np.ndarray, identifier):\n",
    "    \"\"\"\n",
    "    Computes the indices of all entities that are in the physical group \n",
    "    specified by the identifier\n",
    "    \n",
    "    Parameters\n",
    "    ----------\n",
    "    physical_group_data : dict\n",
    "        dict with physical groups. Key is the ID of the group and value is a tuple with (dimension, name, indices of all nodes)\n",
    "    entity2node : np.ndarray\n",
    "        (K,N) array with K entities and N nodes per entity\n",
    "    identifier : int or str\n",
    "        Identifier of the physical group. The ID or the name of the group are accepted\n",
    "\n",
    "    Returns\n",
    "    -------\n",
    "    entity_in_physical_group : np.ndarray\n",
    "        (M,) array. With M being the number of entities in the physical group\n",
    "    \"\"\"\n",
    "    if type(identifier) is str:\n",
    "        for p in physical_group_data.keys():\n",
    "            if physical_group_data[p][1] == identifier:\n",
    "                identifier = p\n",
    "\n",
    "    out = -1 * np.ones(entity2node.shape[0], dtype=int)\n",
    "    for k in range(entity2node.shape[0]):\n",
    "        if np.isin(entity2node[k, :], physical_group_data[identifier][2]).all():\n",
    "            out[k] = k\n",
    "\n",
    "    return out[out != -1]"
   ]
  },
  {
   "cell_type": "markdown",
   "id": "f0ae914d",
   "metadata": {},
   "source": [
    "### 2) Visualize Mesh structures"
   ]
  },
  {
   "cell_type": "code",
   "execution_count": null,
   "id": "71d9d144",
   "metadata": {},
   "outputs": [],
   "source": [
    "# %% Plotting\n",
    "fig = plt.figure()\n",
    "ax = fig.add_subplot(1,1,1,projection='3d')\n",
    "ax.view_init(azim=0, elev=90)\n",
    "ax.plot_trisurf(msh.node[:,0],msh.node[:,1],np.zeros_like(msh.node[:,0]))"
   ]
  },
  {
   "cell_type": "code",
   "execution_count": null,
   "id": "b164ae2a",
   "metadata": {},
   "outputs": [],
   "source": [
    "# Alternative plotting. Here the result is directly 2D. \n"
   ]
  },
  {
   "cell_type": "code",
   "execution_count": null,
   "id": "c68100f6",
   "metadata": {},
   "outputs": [],
   "source": [
    "## Visualize the regions of the model "
   ]
  },
  {
   "cell_type": "markdown",
   "id": "f7606d9e",
   "metadata": {},
   "source": [
    "### 3) Define the finite-element shape functions, construct stiffness matrix and load vector "
   ]
  },
  {
   "cell_type": "code",
   "execution_count": null,
   "id": "1dcd1959",
   "metadata": {},
   "outputs": [],
   "source": [
    "# Task 4: Calculate the element areas (element_area, numelem-by-1) and the \n",
    "# further coefficients a, b and c (each numelem-by-3)\n",
    "# Define the finite-element shape functions \n"
   ]
  },
  {
   "cell_type": "code",
   "execution_count": null,
   "id": "c0f5051c",
   "metadata": {},
   "outputs": [],
   "source": [
    "# Compute element-wise reluctivity\n"
   ]
  },
  {
   "cell_type": "code",
   "execution_count": null,
   "id": "8d227f20",
   "metadata": {},
   "outputs": [],
   "source": [
    "# Task 4: Construct the stiffness matrix Knu (H−1). Do this at first by looping over all elements. \n",
    "# Gather the row numbers, column numbers and matrix entries into vectors i, j, v. \n",
    "# At the end, use the class sparse to assemble all entries into a sparse matrix Knu. \n",
    "# Show the sparsity pattern of Knu using the function spy\n"
   ]
  },
  {
   "cell_type": "code",
   "execution_count": null,
   "id": "7175d0a8",
   "metadata": {},
   "outputs": [],
   "source": [
    "# Task 4: Define load vector j_grid, element-wise current density"
   ]
  },
  {
   "cell_type": "code",
   "execution_count": null,
   "id": "ede06f16",
   "metadata": {},
   "outputs": [],
   "source": [
    "# Task 5: First validation is the check of the magnetic energy\n",
    "r = ...                         # [m]    : radial coordinate\n",
    "A_analytic = depth*A_z(r)                      # [Tm]   : analytic solution for the magnetic vector potential projected onto the mesh\n",
    "W_magn_test = ...   # [J]    : magnetic energy (analytic solution, numerical circuit-reluctance matrix)\n",
    "\n",
    "print('Magnetic energy (analytic solution)           :',W_magn_analytic,'J')\n",
    "print('Magnetic energy (analytic Az, numerical Knu)  :',W_magn_test,'J')"
   ]
  },
  {
   "cell_type": "markdown",
   "id": "cd3544b5",
   "metadata": {},
   "source": [
    "### 4) Enter boundary conditions and solve the system"
   ]
  },
  {
   "cell_type": "code",
   "execution_count": null,
   "id": "e1f81266",
   "metadata": {},
   "outputs": [],
   "source": [
    "..."
   ]
  },
  {
   "cell_type": "markdown",
   "id": "42b87d98",
   "metadata": {},
   "source": [
    "### 5) Post Process"
   ]
  },
  {
   "cell_type": "code",
   "execution_count": null,
   "id": "d585907f",
   "metadata": {},
   "outputs": [],
   "source": [
    "#Calculate magnetic flux density\n",
    "b_field = np.vstack([np.sum(shape_function.c*a[msh.elem_to_node[:]]\n",
    "                    /(2*shape_function.element_area[:,None]),1)\n",
    "                    /shape_function.depth,\n",
    "                    np.sum(shape_function.b*a[msh.elem_to_node[:]]\n",
    "                    /(2*shape_function.element_area[:,None]),1)\n",
    "                    /shape_function.depth]).T\n",
    "b_field_abs = np.linalg.norm(b_field, axis=1)    # [T]    : magnitude of the magnetic flux density\n",
    "\n",
    "# Plotting \n",
    "fig = plt.figure()\n",
    "ax = fig.add_subplot(111)\n",
    "tpc = ax.tripcolor(triang, facecolors=b_field_abs)\n",
    "fig.colorbar(tpc)\n",
    "ax.triplot(triang, color='black', lw=0.1)\n",
    "ax.set_aspect('equal', 'box')\n",
    "\n",
    "# Validity check\n",
    "W_magn_fe = 1/2*a@Knu@a                                                 # [J]    : magnetic energy\n",
    "W_magn_fe2 = np.sum(1/2*reluctivity_in_elements*b_field_abs**2\n",
    "                    *shape_function.element_area*shape_function.depth)  # [J]     : magnetic energy (integrated)\n",
    "print('Validity Check:')\n",
    "print('Magnetic energy (analytic solution)                :',W_magn_analytic,'J')\n",
    "print('Magnetic energy (FE solution)                      :',W_magn_fe,'J')\n",
    "print('Magnetic energy (numerical solution, integrated)   :',W_magn_fe2,'J')"
   ]
  },
  {
   "cell_type": "code",
   "execution_count": null,
   "id": "929fd881",
   "metadata": {},
   "outputs": [],
   "source": []
  }
 ],
 "metadata": {
  "kernelspec": {
   "display_name": "Python 3 (ipykernel)",
   "language": "python",
   "name": "python3"
  },
  "language_info": {
   "codemirror_mode": {
    "name": "ipython",
    "version": 3
   },
   "file_extension": ".py",
   "mimetype": "text/x-python",
   "name": "python",
   "nbconvert_exporter": "python",
   "pygments_lexer": "ipython3",
   "version": "3.9.11"
  }
 },
 "nbformat": 4,
 "nbformat_minor": 5
}
