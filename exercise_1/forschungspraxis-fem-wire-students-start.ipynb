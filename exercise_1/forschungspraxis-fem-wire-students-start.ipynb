{
 "cells": [
  {
   "cell_type": "markdown",
   "id": "f79c6e02",
   "metadata": {},
   "source": [
    "## Problem Description\n",
    "\n",
    "A current of I = 16 A is homogeneously distributed along the cross section of a cylindrical\n",
    "copper wire with radius r1 = 2 mm and length ℓz = 300 mm, aligned with the z-direction. The\n",
    "wire is enclosed within a cylindrical, non-conducting insulating shell with inner radius r1, outer\n",
    "radius r2 = 3.5 mm and with permeability µ = 5µ0, where µ0 is the permeability of vacuum.\n",
    "The outer surface of the insulation shell is considered as a perfect electric conductor."
   ]
  },
  {
   "cell_type": "code",
   "execution_count": 54,
   "id": "3862b449",
   "metadata": {},
   "outputs": [],
   "source": [
    "# -*- coding: utf-8 -*-\n",
    "\"\"\"\n",
    "2021/2022\n",
    "@author: spaeck-leigsnering, bundschuh, ruppert, d'angelo, de gersem\n",
    "\"\"\"\n",
    "import gmsh\n",
    "import numpy as np\n",
    "import sys\n",
    "from scipy import sparse\n",
    "from scipy.sparse.linalg import spsolve\n",
    "from scipy.integrate import quad\n",
    "import matplotlib.pyplot as plt\n",
    "from matplotlib.tri import Triangulation\n",
    "from dataclasses import dataclass\n",
    "\n",
    "%matplotlib inline"
   ]
  },
  {
   "cell_type": "markdown",
   "id": "8c4a162e",
   "metadata": {},
   "source": [
    "## Analytic model"
   ]
  },
  {
   "cell_type": "code",
   "execution_count": 55,
   "id": "8132215a",
   "metadata": {},
   "outputs": [],
   "source": [
    "# %% Settings\n",
    "r_1 = 2e-3                # [m]: inner radius (wire)\n",
    "r_2 = 3.5e-3              # [m]: outer radius (shell)\n",
    "depth = 300e-3            # [m]: Depth of wire (lz)\n",
    "model_name = \"coax\"       # str : model name\n",
    "\n",
    "I = 16                    # [A]   : applied current\n",
    "J_0 = I/(np.pi*r_1**2)    # [A/m] : current density in the wire\n",
    "mu_0 = 4*np.pi*1e-7       # [H/m] : permeability of vacuum (and inside of wire)\n",
    "mu_shell = 5*mu_0         # [H/m] : permeability of shell"
   ]
  },
  {
   "cell_type": "code",
   "execution_count": 56,
   "id": "aadfd7a6",
   "metadata": {},
   "outputs": [],
   "source": [
    "def H_phi(r):\n",
    "    \"\"\"\n",
    "    Analytic solution of Magnetic Field\n",
    "    \n",
    "    Parameters\n",
    "    ----------\n",
    "    r : np.ndarray \n",
    "        radius in [m]\n",
    "\n",
    "    Returns\n",
    "    -------\n",
    "    h_phi : np.ndarray\n",
    "        Magnetic field strength in [A/m]:\n",
    "    \"\"\"\n",
    "    def H_phi_i(r):\n",
    "        return J_0/2*r\n",
    "    def H_phi_a(r):\n",
    "        return J_0/2*r_1**2/r\n",
    "    condition = r<r_1\n",
    "    return condition*H_phi_i(r)+(~condition)*H_phi_a(r)"
   ]
  },
  {
   "cell_type": "code",
   "execution_count": 57,
   "id": "6cc60578",
   "metadata": {},
   "outputs": [],
   "source": [
    "def A_z(r):\n",
    "    \"\"\"\n",
    "    Analytic solution of magnetic vector potential\n",
    "    \n",
    "    Parameters\n",
    "    ----------\n",
    "    r : np.ndarray \n",
    "        radius in [m]\n",
    "\n",
    "    Returns\n",
    "    -------\n",
    "    a_z : np.ndarray \n",
    "        Magnetic vector potential in [Tm]\n",
    "    \"\"\"\n",
    "    def A_z_i(r):\n",
    "        return -I/(2*np.pi)*(mu_0/2*(r**2-r_1**2)/r_1**2+mu_shell*np.log(r_1/r_2))\n",
    "    def A_z_a(r):\n",
    "        return -mu_shell*I/(2*np.pi)*np.log(r/r_2)\n",
    "    condition = r<r_1\n",
    "    return condition*A_z_i(r)+(~condition)*A_z_a(r)"
   ]
  },
  {
   "cell_type": "code",
   "execution_count": 58,
   "id": "d28740dd",
   "metadata": {},
   "outputs": [],
   "source": [
    "# Plotting of H and A\n",
    "r = np.linspace(r_2/100,r_2,100)\n",
    "# plt.plot(r,A_z(r),'r:')\n",
    "# plt.plot(r,H_phi(r),'m-')"
   ]
  },
  {
   "cell_type": "code",
   "execution_count": 59,
   "id": "6ef13679",
   "metadata": {},
   "outputs": [
    {
     "data": {
      "text/plain": "(0.0001795939700537619, 1.4030778910450148e-06)"
     },
     "execution_count": 59,
     "metadata": {},
     "output_type": "execute_result"
    }
   ],
   "source": [
    "# Analytic Energy and Inductance\n",
    "W_magn_analytic = mu_0*J_0**2/4*2*np.pi*depth*r_1**4/2+mu_shell*J_0**2*r_1**4*2*np.pi*depth*np.log(r_2/r_1)\n",
    "L_analytic = 2*W_magn_analytic/I**2  # [H]   : inductance (analytical)\n",
    "W_magn_analytic , L_analytic"
   ]
  },
  {
   "cell_type": "markdown",
   "id": "943ccd97",
   "metadata": {},
   "source": [
    "## Construct finite-element model\n",
    "### 1) Import Mesh and physicals groups from Gmsh file"
   ]
  },
  {
   "cell_type": "code",
   "execution_count": 60,
   "id": "552df566",
   "metadata": {},
   "outputs": [],
   "source": [
    "# Handling of gmsh data in Python context. (Provide to students) \n",
    "# This implementation is well suited for small meshes. \n",
    "@dataclass \n",
    "class Mesh:\n",
    "    node_tag_data : np.ndarray\n",
    "    node_data : np.ndarray\n",
    "    elementTypes : np.ndarray\n",
    "    element_tags : np.ndarray\n",
    "    nodeTags_elements : np.ndarray\n",
    "    \n",
    "    #treat nodes\n",
    "    @property\n",
    "    def num_node(self):\n",
    "        # number of nodes\n",
    "        return int(len(self.node_data)/3) \n",
    "\n",
    "    @property\n",
    "    def node(self):\n",
    "        # nodes\n",
    "        node = np.reshape(self.node_data, (self.num_node, 3))\n",
    "        # coordinates of nodes. x-coordinate in first column \n",
    "        # and y-coordinate in second column\n",
    "        node = node[:, 0:2]\n",
    "        return node\n",
    "    \n",
    "    @property\n",
    "    def node_tag(self):\n",
    "        # ID of nodes\n",
    "        node_tag = self.node_tag_data - np.ones(len(self.node_tag_data))\n",
    "        node_tag = node_tag.astype('int')\n",
    "        np.put_along_axis(self.node,np.c_[node_tag,node_tag],self.node,axis=0)\n",
    "        return node_tag \n",
    "    \n",
    "    #treat elements\n",
    "    @property\n",
    "    def ind_elements(self):\n",
    "        # index of elements\n",
    "        return np.where(self.elementTypes == 2)[0]\n",
    "    \n",
    "    @property \n",
    "    def elements(self):\n",
    "        # elements\n",
    "        return np.array(self.nodeTags_elements[self.ind_elements[0]])\n",
    "    \n",
    "    @property \n",
    "    def num_elements(self):\n",
    "        # number of elements\n",
    "        return int(len(self.elements)/3) \n",
    "    \n",
    "    @property \n",
    "    def elem_to_node(self): \n",
    "        # Associate elements (triangles) and their respective nodes. \n",
    "        # Connection between elements and nodes. \n",
    "        # Each line contains the indices of the contained nodes\n",
    "        elem_to_node= np.reshape(self.elements, (self.num_elements, 3)) - np.ones(\n",
    "            (self.num_elements, 1))\n",
    "        elem_to_node = elem_to_node.astype('int')\n",
    "        return elem_to_node\n",
    "    \n",
    "    @property \n",
    "    def all_edges(self):\n",
    "        # Contains all edges\n",
    "        return np.r_[self.elem_to_node[:, [0, 1]], \n",
    "                     self.elem_to_node[:, [1, 2]], \n",
    "                     self.elem_to_node[:, [0, 2]]]\n",
    "    \n",
    "    @property\n",
    "    def edge_to_node(self):\n",
    "        # Associate edges and their respective nodes. \n",
    "        return np.unique(np.sort(self.all_edges), axis=0)  "
   ]
  },
  {
   "cell_type": "markdown",
   "id": "278e2382",
   "metadata": {},
   "source": [
    "#### Import Gmsh file and process mesh"
   ]
  },
  {
   "cell_type": "code",
   "execution_count": 61,
   "id": "a53edf22",
   "metadata": {},
   "outputs": [],
   "source": [
    "# Import Gmsh File \n",
    "# Alternatively, the model can be contructed directly with the python interface directly.\n",
    "\n",
    "# Initialize gmsh\n",
    "gmsh.initialize(sys.argv[0])\n",
    "#gmsh.open(model_name+\".msh\")\n",
    "gmsh.model.add(model_name)\n",
    "gmsh.merge(model_name+\".geo\")\n",
    "gmsh.option.setNumber('Mesh.MeshSizeFactor', 0.8) # control grid size here.\n",
    "gmsh.option.setNumber('Mesh.MshFileVersion', 2.2) # MATLAB compatible mesh file format\n",
    "gmsh.model.occ.synchronize()\n",
    "#gmsh.fltk.run()                                  # uncomment, if you want to inspect the geometry\n",
    "gmsh.model.mesh.generate(dim=2) # 2D mesh\n",
    "#gmsh.fltk.run()                                  # uncomment, if you want to inspect the mesh\n",
    "#gmsh.write(model_name+\".msh\")                    # writes the mesh to a file\n",
    "node_tag, node, _ = gmsh.model.mesh.getNodes()\n",
    "elementTypes, element_tags, nodeTags_elements = gmsh.model.mesh.getElements()\n",
    "msh = Mesh(node_tag, node, elementTypes, element_tags , nodeTags_elements)"
   ]
  },
  {
   "cell_type": "markdown",
   "id": "a5c57fb1",
   "metadata": {},
   "source": [
    "#### Import Gmsh Physical groups and process"
   ]
  },
  {
   "cell_type": "code",
   "execution_count": 62,
   "id": "219b37ea",
   "metadata": {},
   "outputs": [
    {
     "data": {
      "text/plain": "{3: (1,\n  'GND',\n  array([ 1, 17, 18, 19, 20, 21, 22, 23, 24, 25, 26, 27, 28, 29, 30, 31, 32,\n         33, 34, 35, 36, 37, 38, 39, 40, 41, 42, 43], dtype=uint64)),\n 1: (2,\n  'WIRE',\n  array([ 0,  2,  3,  4,  5,  6,  7,  8,  9, 10, 11, 12, 13, 14, 15, 16, 44,\n         45, 46, 47, 48, 49, 50, 51, 52, 53, 54, 55, 56, 57, 58, 59, 60, 61,\n         62, 63, 64, 65, 66, 67, 68], dtype=uint64)),\n 2: (2,\n  'SHELL',\n  array([  0,   1,   2,   3,   4,   5,   6,   7,   8,   9,  10,  11,  12,\n          13,  14,  15,  16,  17,  18,  19,  20,  21,  22,  23,  24,  25,\n          26,  27,  28,  29,  30,  31,  32,  33,  34,  35,  36,  37,  38,\n          39,  40,  41,  42,  43,  69,  70,  71,  72,  73,  74,  75,  76,\n          77,  78,  79,  80,  81,  82,  83,  84,  85,  86,  87,  88,  89,\n          90,  91,  92,  93,  94,  95,  96,  97,  98,  99, 100],\n        dtype=uint64))}"
     },
     "execution_count": 62,
     "metadata": {},
     "output_type": "execute_result"
    }
   ],
   "source": [
    "# Import Physical Groups (Provide to student)\n",
    "pg = gmsh.model.getPhysicalGroups()\n",
    "\n",
    "# Physical Groups \n",
    "physical_groups = dict()\n",
    "# In every entry in physical_groups we define the following structure (dimension, name, indices of all nodes)\n",
    "for group in pg:\n",
    "    physical_groups[group[1]] = (group[0], gmsh.model.getPhysicalName(group[0], group[1]),\n",
    "                                 gmsh.model.mesh.getNodesForPhysicalGroup(group[0], group[1])[0] - 1)\n",
    "    \n",
    "# Finalize gmsh\n",
    "# gmsh.finalize()\n",
    "physical_groups"
   ]
  },
  {
   "cell_type": "code",
   "execution_count": 63,
   "id": "5f34e871",
   "metadata": {},
   "outputs": [],
   "source": [
    "def entity_in_physical_group(physical_group_data: dict, entity2node: np.ndarray, identifier):\n",
    "    \"\"\"\n",
    "    Computes the indices of all entities that are in the physical group \n",
    "    specified by the identifier\n",
    "    \n",
    "    Parameters\n",
    "    ----------\n",
    "    physical_group_data : dict\n",
    "        dict with physical groups. Key is the ID of the group and value is a tuple with (dimension, name, indices of all nodes)\n",
    "    entity2node : np.ndarray\n",
    "        (K,N) array with K entities and N nodes per entity\n",
    "    identifier : int or str\n",
    "        Identifier of the physical group. The ID or the name of the group are accepted\n",
    "\n",
    "    Returns\n",
    "    -------\n",
    "    entity_in_physical_group : np.ndarray\n",
    "        (M,) array. With M being the number of entities in the physical group\n",
    "    \"\"\"\n",
    "    if type(identifier) is str:\n",
    "        for p in physical_group_data.keys():\n",
    "            if physical_group_data[p][1] == identifier:\n",
    "                identifier = p\n",
    "\n",
    "    out = -1 * np.ones(entity2node.shape[0], dtype=int)\n",
    "    for k in range(entity2node.shape[0]):\n",
    "        if np.isin(entity2node[k, :], physical_group_data[identifier][2]).all():\n",
    "            out[k] = k\n",
    "\n",
    "    return out[out != -1]"
   ]
  },
  {
   "cell_type": "markdown",
   "id": "f0ae914d",
   "metadata": {},
   "source": [
    "### 2) Visualize Mesh structures"
   ]
  },
  {
   "cell_type": "code",
   "execution_count": 64,
   "id": "71d9d144",
   "metadata": {},
   "outputs": [
    {
     "data": {
      "text/plain": "<mpl_toolkits.mplot3d.art3d.Poly3DCollection at 0x2b95296e850>"
     },
     "execution_count": 64,
     "metadata": {},
     "output_type": "execute_result"
    },
    {
     "data": {
      "text/plain": "<Figure size 640x480 with 1 Axes>",
      "image/png": "[encoded data removed]"
     },
     "metadata": {},
     "output_type": "display_data"
    }
   ],
   "source": [
    "# %% Plotting\n",
    "fig = plt.figure()\n",
    "ax = fig.add_subplot(1,1,1,projection='3d')\n",
    "ax.view_init(azim=0, elev=90)\n",
    "ax.plot_trisurf(msh.node[:,0],msh.node[:,1],np.zeros_like(msh.node[:,0]))"
   ]
  },
  {
   "cell_type": "code",
   "execution_count": 65,
   "id": "b164ae2a",
   "metadata": {},
   "outputs": [],
   "source": [
    "# Alternative plotting. Here the result is directly 2D. \n"
   ]
  },
  {
   "cell_type": "code",
   "execution_count": 66,
   "id": "c68100f6",
   "metadata": {},
   "outputs": [],
   "source": [
    "## Visualize the regions of the model "
   ]
  },
  {
   "cell_type": "markdown",
   "id": "f7606d9e",
   "metadata": {},
   "source": [
    "### 3) Define the finite-element shape functions, construct stiffness matrix and load vector "
   ]
  },
  {
   "cell_type": "code",
   "execution_count": 67,
   "id": "1dcd1959",
   "metadata": {},
   "outputs": [],
   "source": [
    "from util.model import Point2D\n",
    "\n",
    "# Task 4: Calculate the element areas (element_area, numelem-by-1) and the\n",
    "# further coefficients a, b and c (each numelem-by-3)\n",
    "# Define the finite-element shape functions \n",
    "\n",
    "@dataclass\n",
    "class ShapeFunction:\n",
    "    \"\"\"A 2 dimensional shape function.\"\"\"\n",
    "\n",
    "    a: float\n",
    "    b: float\n",
    "    c: float\n",
    "    S: float\n",
    "\n",
    "    def __call__(self, x: float, y: float) -> float:\n",
    "        \"\"\"Evaluates this shape function at the point (x,y).\"\"\"\n",
    "        return (self.a + self.b * x + self.c * y) / (2 * self.S)\n",
    "\n",
    "    @staticmethod\n",
    "    def of_points(p_i: Point2D, p_j: Point2D, p_k: Point2D):\n",
    "        \"\"\"Creates the shape function at the triangle with corner points p_i, p_j and p_k\"\"\"\n",
    "\n",
    "        if len(p_i) != 2 or len(p_j) != 2 or len(p_k) != 2:\n",
    "            raise Exception(\"Points must be 2 dimensional!\")\n",
    "        return ShapeFunction.of_coords(p_i[0], p_i[1], p_j[0], p_j[1], p_k[0], p_k[1])\n",
    "\n",
    "    @staticmethod\n",
    "    def of_coords(x_i: float, y_i: float, x_j: float, y_j: float, x_k: float, y_k: float):\n",
    "        \"\"\"Creates the shape function at the triangle (x_i, y_i), (x_j, y_j), (x_k, y_k).\"\"\"\n",
    "\n",
    "        b = np.array([x_j - x_k, y_j - y_k])\n",
    "        h = np.array([x_j + x_k, y_j + y_k]) / 2 - np.array([x_i, y_i])\n",
    "\n",
    "        return ShapeFunction(\n",
    "            a=x_j * y_k - x_k * y_j,\n",
    "            b=y_j - y_k,\n",
    "            c=x_k - x_j,\n",
    "            S=la.norm(b) * la.norm(h) / 2\n",
    "        )\n"
   ]
  },
  {
   "cell_type": "code",
   "execution_count": 68,
   "id": "c0f5051c",
   "metadata": {},
   "outputs": [],
   "source": [
    "# Compute element-wise reluctivity\n"
   ]
  },
  {
   "cell_type": "code",
   "execution_count": 69,
   "id": "8d227f20",
   "metadata": {},
   "outputs": [],
   "source": [
    "# Task 4: Construct the stiffness matrix Knu (H−1). Do this at first by looping over all elements. \n",
    "# Gather the row numbers, column numbers and matrix entries into vectors i, j, v. \n",
    "# At the end, use the class sparse to assemble all entries into a sparse matrix Knu. \n",
    "# Show the sparsity pattern of Knu using the function spy\n"
   ]
  },
  {
   "cell_type": "code",
   "execution_count": 70,
   "id": "7175d0a8",
   "metadata": {},
   "outputs": [],
   "source": [
    "# Task 4: Define load vector j_grid, element-wise current density"
   ]
  },
  {
   "cell_type": "code",
   "execution_count": 71,
   "id": "ede06f16",
   "metadata": {},
   "outputs": [
    {
     "ename": "TypeError",
     "evalue": "'<' not supported between instances of 'ellipsis' and 'float'",
     "output_type": "error",
     "traceback": [
      "\u001B[1;31m---------------------------------------------------------------------------\u001B[0m",
      "\u001B[1;31mTypeError\u001B[0m                                 Traceback (most recent call last)",
      "Cell \u001B[1;32mIn [71], line 3\u001B[0m\n\u001B[0;32m      1\u001B[0m \u001B[38;5;66;03m# Task 5: First validation is the check of the magnetic energy\u001B[39;00m\n\u001B[0;32m      2\u001B[0m r \u001B[38;5;241m=\u001B[39m \u001B[38;5;241m.\u001B[39m\u001B[38;5;241m.\u001B[39m\u001B[38;5;241m.\u001B[39m                         \u001B[38;5;66;03m# [m]    : radial coordinate\u001B[39;00m\n\u001B[1;32m----> 3\u001B[0m A_analytic \u001B[38;5;241m=\u001B[39m depth\u001B[38;5;241m*\u001B[39m\u001B[43mA_z\u001B[49m\u001B[43m(\u001B[49m\u001B[43mr\u001B[49m\u001B[43m)\u001B[49m                      \u001B[38;5;66;03m# [Tm]   : analytic solution for the magnetic vector potential projected onto the mesh\u001B[39;00m\n\u001B[0;32m      4\u001B[0m W_magn_test \u001B[38;5;241m=\u001B[39m \u001B[38;5;241m.\u001B[39m\u001B[38;5;241m.\u001B[39m\u001B[38;5;241m.\u001B[39m   \u001B[38;5;66;03m# [J]    : magnetic energy (analytic solution, numerical circuit-reluctance matrix)\u001B[39;00m\n\u001B[0;32m      6\u001B[0m \u001B[38;5;28mprint\u001B[39m(\u001B[38;5;124m'\u001B[39m\u001B[38;5;124mMagnetic energy (analytic solution)           :\u001B[39m\u001B[38;5;124m'\u001B[39m,W_magn_analytic,\u001B[38;5;124m'\u001B[39m\u001B[38;5;124mJ\u001B[39m\u001B[38;5;124m'\u001B[39m)\n",
      "Cell \u001B[1;32mIn [57], line 19\u001B[0m, in \u001B[0;36mA_z\u001B[1;34m(r)\u001B[0m\n\u001B[0;32m     17\u001B[0m \u001B[38;5;28;01mdef\u001B[39;00m \u001B[38;5;21mA_z_a\u001B[39m(r):\n\u001B[0;32m     18\u001B[0m     \u001B[38;5;28;01mreturn\u001B[39;00m \u001B[38;5;241m-\u001B[39mmu_shell\u001B[38;5;241m*\u001B[39mI\u001B[38;5;241m/\u001B[39m(\u001B[38;5;241m2\u001B[39m\u001B[38;5;241m*\u001B[39mnp\u001B[38;5;241m.\u001B[39mpi)\u001B[38;5;241m*\u001B[39mnp\u001B[38;5;241m.\u001B[39mlog(r\u001B[38;5;241m/\u001B[39mr_2)\n\u001B[1;32m---> 19\u001B[0m condition \u001B[38;5;241m=\u001B[39m \u001B[43mr\u001B[49m\u001B[38;5;241;43m<\u001B[39;49m\u001B[43mr_1\u001B[49m\n\u001B[0;32m     20\u001B[0m \u001B[38;5;28;01mreturn\u001B[39;00m condition\u001B[38;5;241m*\u001B[39mA_z_i(r)\u001B[38;5;241m+\u001B[39m(\u001B[38;5;241m~\u001B[39mcondition)\u001B[38;5;241m*\u001B[39mA_z_a(r)\n",
      "\u001B[1;31mTypeError\u001B[0m: '<' not supported between instances of 'ellipsis' and 'float'"
     ]
    }
   ],
   "source": [
    "# Task 5: First validation is the check of the magnetic energy\n",
    "r = ...                         # [m]    : radial coordinate\n",
    "A_analytic = depth*A_z(r)                      # [Tm]   : analytic solution for the magnetic vector potential projected onto the mesh\n",
    "W_magn_test = ...   # [J]    : magnetic energy (analytic solution, numerical circuit-reluctance matrix)\n",
    "\n",
    "print('Magnetic energy (analytic solution)           :',W_magn_analytic,'J')\n",
    "print('Magnetic energy (analytic Az, numerical Knu)  :',W_magn_test,'J')"
   ]
  },
  {
   "cell_type": "markdown",
   "id": "cd3544b5",
   "metadata": {},
   "source": [
    "### 4) Enter boundary conditions and solve the system"
   ]
  },
  {
   "cell_type": "code",
   "execution_count": null,
   "id": "e1f81266",
   "metadata": {},
   "outputs": [],
   "source": [
    "..."
   ]
  },
  {
   "cell_type": "markdown",
   "id": "42b87d98",
   "metadata": {},
   "source": [
    "### 5) Post Process"
   ]
  },
  {
   "cell_type": "code",
   "execution_count": null,
   "id": "d585907f",
   "metadata": {},
   "outputs": [],
   "source": [
    "#Calculate magnetic flux density\n",
    "b_field = np.vstack([np.sum(shape_function.c*a[msh.elem_to_node[:]]\n",
    "                    /(2*shape_function.element_area[:,None]),1)\n",
    "                    /shape_function.depth,\n",
    "                    np.sum(shape_function.b*a[msh.elem_to_node[:]]\n",
    "                    /(2*shape_function.element_area[:,None]),1)\n",
    "                    /shape_function.depth]).T\n",
    "b_field_abs = np.linalg.norm(b_field, axis=1)    # [T]    : magnitude of the magnetic flux density\n",
    "\n",
    "# Plotting \n",
    "fig = plt.figure()\n",
    "ax = fig.add_subplot(111)\n",
    "tpc = ax.tripcolor(triang, facecolors=b_field_abs)\n",
    "fig.colorbar(tpc)\n",
    "ax.triplot(triang, color='black', lw=0.1)\n",
    "ax.set_aspect('equal', 'box')\n",
    "\n",
    "# Validity check\n",
    "W_magn_fe = 1/2*a@Knu@a                                                 # [J]    : magnetic energy\n",
    "W_magn_fe2 = np.sum(1/2*reluctivity_in_elements*b_field_abs**2\n",
    "                    *shape_function.element_area*shape_function.depth)  # [J]     : magnetic energy (integrated)\n",
    "print('Validity Check:')\n",
    "print('Magnetic energy (analytic solution)                :',W_magn_analytic,'J')\n",
    "print('Magnetic energy (FE solution)                      :',W_magn_fe,'J')\n",
    "print('Magnetic energy (numerical solution, integrated)   :',W_magn_fe2,'J')"
   ]
  },
  {
   "cell_type": "code",
   "execution_count": null,
   "id": "929fd881",
   "metadata": {},
   "outputs": [],
   "source": []
  }
 ],
 "metadata": {
  "kernelspec": {
   "display_name": "Python 3 (ipykernel)",
   "language": "python",
   "name": "python3"
  },
  "language_info": {
   "codemirror_mode": {
    "name": "ipython",
    "version": 3
   },
   "file_extension": ".py",
   "mimetype": "text/x-python",
   "name": "python",
   "nbconvert_exporter": "python",
   "pygments_lexer": "ipython3",
   "version": "3.9.11"
  }
 },
 "nbformat": 4,
 "nbformat_minor": 5
}
